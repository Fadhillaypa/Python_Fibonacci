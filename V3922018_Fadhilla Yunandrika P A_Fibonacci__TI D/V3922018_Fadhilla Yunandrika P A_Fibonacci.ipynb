{
 "cells": [
  {
   "cell_type": "code",
   "execution_count": 1,
   "metadata": {},
   "outputs": [
    {
     "name": "stdout",
     "output_type": "stream",
     "text": [
      "0\n",
      "0 1\n",
      "0 1 2\n",
      "0 1 2 3\n",
      "0 1 2 3 5\n",
      "0 1 2 3 5 8\n",
      "0 1 2 3 5 8 13\n",
      "0 1 2 3 5 8 13 21\n",
      "0 1 2 3 5 8 13 21 34\n"
     ]
    }
   ],
   "source": [
    "fibonacci_numbers =[0, 1, 2, 3, 5, 8, 13, 21, 34]\n",
    "\n",
    "for i in range(len(fibonacci_numbers)):\n",
    "    print(*fibonacci_numbers[:i+1])"
   ]
  },
  {
   "cell_type": "code",
   "execution_count": 2,
   "metadata": {},
   "outputs": [
    {
     "name": "stdout",
     "output_type": "stream",
     "text": [
      "Masukkan Nama Anda : Fadhilla Yunandrika Putra Adyatma\n",
      "Jumlah huruf dari nama lengkap Anda adalah: 30\n",
      "Jumlah huruf vokal dari nama lengkap Anda adalah: 12\n",
      "Jumlah huruf konsonan dari nama lengkap Anda adalah: 18\n"
     ]
    }
   ],
   "source": [
    "nama_lengkap = input (\"Masukkan Nama Anda : \")\n",
    "\n",
    "# Menghitung jumlah huruf dari nama lengkap\n",
    "jumlah_huruf = len(nama_lengkap.replace(\" \", \"\"))\n",
    "\n",
    "# Menghitung jumlah huruf vokal dari nama lengkap\n",
    "huruf_vokal = \"aiueoAIUEO\"\n",
    "jumlah_vokal = len([char for char in nama_lengkap if char in huruf_vokal])\n",
    "\n",
    "# Menghitung jumlah huruf konsonan dari nama lengkap\n",
    "jumlah_konsonan = jumlah_huruf - jumlah_vokal\n",
    "\n",
    "print(\"Jumlah huruf dari nama lengkap Anda adalah:\", jumlah_huruf)\n",
    "print(\"Jumlah huruf vokal dari nama lengkap Anda adalah:\", jumlah_vokal)\n",
    "print(\"Jumlah huruf konsonan dari nama lengkap Anda adalah:\", jumlah_konsonan)"
   ]
  },
  {
   "cell_type": "code",
   "execution_count": null,
   "metadata": {},
   "outputs": [],
   "source": []
  }
 ],
 "metadata": {
  "kernelspec": {
   "display_name": "Python 3",
   "language": "python",
   "name": "python3"
  },
  "language_info": {
   "codemirror_mode": {
    "name": "ipython",
    "version": 3
   },
   "file_extension": ".py",
   "mimetype": "text/x-python",
   "name": "python",
   "nbconvert_exporter": "python",
   "pygments_lexer": "ipython3",
   "version": "3.8.5"
  }
 },
 "nbformat": 4,
 "nbformat_minor": 4
}
